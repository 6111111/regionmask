{
 "cells": [
  {
   "cell_type": "code",
   "execution_count": 77,
   "metadata": {
    "collapsed": true
   },
   "outputs": [],
   "source": [
    "import regionmask\n",
    "import matplotlib.pyplot as plt\n",
    "import cartopy.crs as ccrs\n",
    "\n",
    "import seaborn as sns"
   ]
  },
  {
   "cell_type": "code",
   "execution_count": 17,
   "metadata": {
    "collapsed": true
   },
   "outputs": [],
   "source": [
    "%matplotlib inline"
   ]
  },
  {
   "cell_type": "code",
   "execution_count": 58,
   "metadata": {
    "collapsed": true
   },
   "outputs": [],
   "source": [
    "proj = ccrs.LambertConformal(central_longitude=8.25)"
   ]
  },
  {
   "cell_type": "code",
   "execution_count": 250,
   "metadata": {
    "collapsed": false
   },
   "outputs": [],
   "source": [
    "CH = regionmask.defined_regions.natural_earth.countries_50 #[['D']]\n",
    "\n",
    "#bounds = np.array(CH['CH'].polygon.bounds)\n",
    "\n",
    "#bounds = np.round(bounds, 1)\n",
    "\n",
    "delta = 0.5\n",
    "\n",
    "lon = np.arange(4.5, 13.5 + delta, delta)\n",
    "lat = np.arange(42, 49 + delta, delta)\n",
    "\n",
    "mask = CH.mask(lon, lat)"
   ]
  },
  {
   "cell_type": "code",
   "execution_count": 251,
   "metadata": {
    "collapsed": false
   },
   "outputs": [],
   "source": [
    "uq = np.unique(mask)\n",
    "uq = uq[~ np.isnan(uq)]\n",
    "\n",
    "for i, d in enumerate(uq):\n",
    "    mask.values[mask.values == d] = i"
   ]
  },
  {
   "cell_type": "code",
   "execution_count": 252,
   "metadata": {
    "collapsed": false
   },
   "outputs": [
    {
     "data": {
      "text/plain": [
       "array([  0.,   1.,   2.,   3.,   4.,   5.,   6.,  nan,  nan,  nan,  nan,\n",
       "        nan,  nan,  nan,  nan,  nan,  nan,  nan,  nan,  nan,  nan,  nan,\n",
       "        nan,  nan,  nan,  nan,  nan,  nan,  nan,  nan,  nan,  nan,  nan,\n",
       "        nan,  nan,  nan,  nan,  nan,  nan,  nan,  nan,  nan,  nan,  nan,\n",
       "        nan,  nan,  nan,  nan,  nan,  nan,  nan,  nan,  nan,  nan,  nan,\n",
       "        nan,  nan,  nan,  nan,  nan,  nan,  nan,  nan,  nan,  nan,  nan,\n",
       "        nan])"
      ]
     },
     "execution_count": 252,
     "metadata": {},
     "output_type": "execute_result"
    }
   ],
   "source": [
    "np.unique(mask)"
   ]
  },
  {
   "cell_type": "code",
   "execution_count": 253,
   "metadata": {
    "collapsed": false,
    "scrolled": true
   },
   "outputs": [
    {
     "data": {
      "image/png": "[encoded data removed]",
      "text/plain": [
       "<matplotlib.figure.Figure at 0x2b42e097edd0>"
      ]
     },
     "metadata": {},
     "output_type": "display_data"
    }
   ],
   "source": [
    "proj = ccrs.PlateCarree()\n",
    "\n",
    "f, axes = plt.subplots(1, 2, subplot_kw=dict(projection=proj))\n",
    "\n",
    "# AXIS 0\n",
    "CH.plot(ax=axes[0], add_label=False, coastlines=False, resolution='50m')\n",
    "\n",
    "# AXIS 1\n",
    "\n",
    "mask.plot(ax=axes[1], add_colorbar=False, transform=ccrs.PlateCarree(), edgecolor='0.25', lw=0.05,\n",
    "          cmap='YlGn_r')\n",
    "\n",
    "\n",
    "bounds = [4.51, 13.49, 42.02, 48.99]\n",
    "axes[0].set_extent(bounds, ccrs.PlateCarree())\n",
    "axes[1].set_extent(bounds, ccrs.PlateCarree())\n",
    "\n",
    "# despine\n",
    "#sns.despine(f, bottom=True, left=True)\n",
    "#axes[0].outline_patch.set_visible(False)\n",
    "#axes[1].outline_patch.set_visible(False)\n",
    "\n",
    "# title\n",
    "axes[0].set_title('region', fontsize=35)\n",
    "axes[1].set_title('mask',  fontsize=35)\n",
    "\n",
    "plt.savefig('logo.png', dpi=300, bbox_inches='tight')"
   ]
  },
  {
   "cell_type": "code",
   "execution_count": null,
   "metadata": {
    "collapsed": false
   },
   "outputs": [],
   "source": []
  },
  {
   "cell_type": "code",
   "execution_count": null,
   "metadata": {
    "collapsed": true
   },
   "outputs": [],
   "source": [
    "axes[0].get_extent"
   ]
  },
  {
   "cell_type": "code",
   "execution_count": null,
   "metadata": {
    "collapsed": true
   },
   "outputs": [],
   "source": []
  }
 ],
 "metadata": {
  "kernelspec": {
   "display_name": "Python 2",
   "language": "python",
   "name": "python2"
  },
  "language_info": {
   "codemirror_mode": {
    "name": "ipython",
    "version": 2
   },
   "file_extension": ".py",
   "mimetype": "text/x-python",
   "name": "python",
   "nbconvert_exporter": "python",
   "pygments_lexer": "ipython2",
   "version": "2.7.12"
  }
 },
 "nbformat": 4,
 "nbformat_minor": 0
}
