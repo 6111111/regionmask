{
 "cells": [
  {
   "cell_type": "code",
   "execution_count": 1,
   "metadata": {
    "collapsed": false
   },
   "outputs": [
    {
     "name": "stderr",
     "output_type": "stream",
     "text": [
      "/home/mathause/.local/lib/python2.7/site-packages/IPython/html.py:14: ShimWarning: The `IPython.html` package has been deprecated. You should import from `notebook` instead. `IPython.html.widgets` has moved to `ipywidgets`.\n",
      "  \"`IPython.html.widgets` has moved to `ipywidgets`.\", ShimWarning)\n"
     ]
    }
   ],
   "source": [
    "import regionmask\n",
    "import matplotlib.pyplot as plt\n",
    "import cartopy.crs as ccrs\n",
    "\n",
    "import seaborn as sns"
   ]
  },
  {
   "cell_type": "code",
   "execution_count": 2,
   "metadata": {
    "collapsed": false
   },
   "outputs": [
    {
     "data": {
      "text/plain": [
       "'0.13.0'"
      ]
     },
     "execution_count": 2,
     "metadata": {},
     "output_type": "execute_result"
    }
   ],
   "source": [
    "import cartopy\n",
    "cartopy.__version__"
   ]
  },
  {
   "cell_type": "code",
   "execution_count": 3,
   "metadata": {
    "collapsed": true
   },
   "outputs": [],
   "source": [
    "%matplotlib inline"
   ]
  },
  {
   "cell_type": "code",
   "execution_count": 4,
   "metadata": {
    "collapsed": true
   },
   "outputs": [],
   "source": []
  },
  {
   "cell_type": "code",
   "execution_count": 5,
   "metadata": {
    "collapsed": false
   },
   "outputs": [],
   "source": [
    "CH = regionmask.defined_regions.natural_earth.countries_50 #[['CH', 'D', 'A', 'I', 'F']]\n",
    "\n",
    "#bounds = np.array(CH['CH'].polygon.bounds)\n",
    "\n",
    "#bounds = np.round(bounds, 1)\n",
    "\n",
    "delta = 0.5\n",
    "\n",
    "lon = np.arange(4.5, 13.5 + delta, delta)\n",
    "lat = np.arange(42, 49 + delta, delta)\n",
    "\n",
    "mask = CH.mask(lon, lat)"
   ]
  },
  {
   "cell_type": "code",
   "execution_count": 6,
   "metadata": {
    "collapsed": false
   },
   "outputs": [],
   "source": [
    "uq = np.unique(mask)\n",
    "uq = uq[~ np.isnan(uq)]\n",
    "\n",
    "for i, d in enumerate(uq):\n",
    "    mask.values[mask.values == d] = i"
   ]
  },
  {
   "cell_type": "code",
   "execution_count": 7,
   "metadata": {
    "collapsed": false
   },
   "outputs": [
    {
     "data": {
      "text/plain": [
       "array([  0.,   1.,   2.,   3.,   4.,   5.,   6.,  nan,  nan,  nan,  nan,\n",
       "        nan,  nan,  nan,  nan,  nan,  nan,  nan,  nan,  nan,  nan,  nan,\n",
       "        nan,  nan,  nan,  nan,  nan,  nan,  nan,  nan,  nan,  nan,  nan,\n",
       "        nan,  nan,  nan,  nan,  nan,  nan,  nan,  nan,  nan,  nan,  nan,\n",
       "        nan,  nan,  nan,  nan,  nan,  nan,  nan,  nan,  nan,  nan,  nan,\n",
       "        nan,  nan,  nan,  nan,  nan,  nan,  nan,  nan,  nan,  nan,  nan,\n",
       "        nan])"
      ]
     },
     "execution_count": 7,
     "metadata": {},
     "output_type": "execute_result"
    }
   ],
   "source": [
    "np.unique(mask)"
   ]
  },
  {
   "cell_type": "code",
   "execution_count": 11,
   "metadata": {
    "collapsed": true
   },
   "outputs": [],
   "source": [
    "import cartopy.feature as cfeature\n",
    "import matplotlib.gridspec as gridspec"
   ]
  },
  {
   "cell_type": "code",
   "execution_count": null,
   "metadata": {
    "collapsed": false,
    "scrolled": true
   },
   "outputs": [],
   "source": [
    "\n",
    "#f, axes = plt.subplots(1, 2, subplot_kw=dict(projection=proj))\n",
    "\n",
    "gs = gridspec.GridSpec(1, 2)\n",
    "\n",
    "lon = (4.5 + 13.5) / 2\n",
    "lat = (42 + 49) / 2\n",
    "proj = ccrs.LambertConformal(central_longitude=lon, central_latitude=lat)\n",
    "\n",
    "ax0 = plt.subplot(gs[0], projection=proj, axisbg=[1, 0, 0])\n",
    "\n",
    "#proj = ccrs.PlateCarree()\n",
    "ax1 = plt.subplot(gs[1], projection=proj, axisbg=[1, 0, 0])\n",
    "\n",
    "\n",
    "# AXIS 0\n",
    "CH.plot(ax=ax0, add_label=False, coastlines=False, resolution='110m', line_kws=dict(lw=0.5))\n",
    "\n",
    "\n",
    "# AXIS 1\n",
    "\n",
    "mask.plot(ax=ax1, add_colorbar=False, transform=ccrs.PlateCarree(), edgecolor='0.25', lw=0.05,\n",
    "          cmap='YlGn_r')\n",
    "\n",
    "\n",
    "\n",
    "\n",
    "\n",
    "bounds = [4.51, 13.49, 42.02, 48.99]\n",
    "ax0.set_extent(bounds, ccrs.PlateCarree())\n",
    "ax1.set_extent(bounds, ccrs.PlateCarree())\n",
    "\n",
    "# despine\n",
    "#sns.despine(f, bottom=True, left=True)\n",
    "#axes[0].outline_patch.set_visible(False)\n",
    "#axes[1].outline_patch.set_visible(False)\n",
    "\n",
    "# title\n",
    "ax0.set_title('region', fontsize=35)\n",
    "ax1.set_title('mask',  fontsize=35)\n",
    "\n",
    "plt.savefig('logo.png', dpi=150, bbox_inches='tight')"
   ]
  },
  {
   "cell_type": "code",
   "execution_count": null,
   "metadata": {
    "collapsed": false
   },
   "outputs": [],
   "source": []
  },
  {
   "cell_type": "code",
   "execution_count": null,
   "metadata": {
    "collapsed": true
   },
   "outputs": [],
   "source": [
    "axes[0].get_extent"
   ]
  },
  {
   "cell_type": "code",
   "execution_count": null,
   "metadata": {
    "collapsed": true
   },
   "outputs": [],
   "source": []
  }
 ],
 "metadata": {
  "kernelspec": {
   "display_name": "Python 2",
   "language": "python",
   "name": "python2"
  },
  "language_info": {
   "codemirror_mode": {
    "name": "ipython",
    "version": 2
   },
   "file_extension": ".py",
   "mimetype": "text/x-python",
   "name": "python",
   "nbconvert_exporter": "python",
   "pygments_lexer": "ipython2",
   "version": "2.7.12"
  }
 },
 "nbformat": 4,
 "nbformat_minor": 0
}
