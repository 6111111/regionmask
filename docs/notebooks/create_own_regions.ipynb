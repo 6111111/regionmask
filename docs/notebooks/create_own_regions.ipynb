{
 "cells": [
  {
   "cell_type": "code",
   "execution_count": null,
   "metadata": {},
   "outputs": [],
   "source": [
    "import matplotlib\n",
    "matplotlib.use(\"Agg\")\n",
    "\n",
    "%matplotlib inline\n",
    "%config InlineBackend.figure_format = \"retina\"\n",
    "\n",
    "from matplotlib import rcParams\n",
    "rcParams[\"savefig.dpi\"] = 200\n",
    "rcParams[\"font.size\"] = 8\n",
    "\n",
    "import warnings\n",
    "warnings.filterwarnings('ignore')\n",
    "%matplotlib --list"
   ]
  },
  {
   "cell_type": "markdown",
   "metadata": {},
   "source": [
    "# Create your own region\n",
    "Creating own regions is straightforward."
   ]
  },
  {
   "cell_type": "markdown",
   "metadata": {},
   "source": [
    "Import regionmask and check the version:"
   ]
  },
  {
   "cell_type": "code",
   "execution_count": null,
   "metadata": {},
   "outputs": [],
   "source": [
    "import regionmask\n",
    "regionmask.__version__\n",
    "matplotlib.get_backend()"
   ]
  },
  {
   "cell_type": "markdown",
   "metadata": {},
   "source": [
    "Assume you have two custom regions in the US."
   ]
  },
  {
   "cell_type": "code",
   "execution_count": null,
   "metadata": {},
   "outputs": [],
   "source": [
    "US1 = [[-100., 30], [-100, 40], [-120, 35]]\n",
    "US2 = [[-100., 30], [-80, 30], [-80, 40], [-100, 40]]"
   ]
  },
  {
   "cell_type": "markdown",
   "metadata": {},
   "source": [
    "You also need to provide numbers, names and abbreviations:"
   ]
  },
  {
   "cell_type": "code",
   "execution_count": null,
   "metadata": {},
   "outputs": [],
   "source": [
    "numbers = [0, 1]\n",
    "names = ['US_west', 'US_east']\n",
    "abbrevs = ['USw', 'USe']\n",
    "\n",
    "USmask = regionmask.Regions_cls('USmask', numbers, names, abbrevs, [US1, US2])"
   ]
  },
  {
   "cell_type": "markdown",
   "metadata": {},
   "source": [
    "Again we can plot the outline of the defined regions"
   ]
  },
  {
   "cell_type": "code",
   "execution_count": null,
   "metadata": {},
   "outputs": [],
   "source": [
    "ax = USmask.plot() #(label='abbrev')\n",
    "\n",
    "# load cartopy\n",
    "import cartopy.crs as ccrs\n",
    "# fine tune the extent\n",
    "ax.set_extent([225, 300, 25, 45], crs=ccrs.PlateCarree());"
   ]
  },
  {
   "cell_type": "markdown",
   "metadata": {},
   "source": [
    "and obtain a mask:"
   ]
  },
  {
   "cell_type": "code",
   "execution_count": null,
   "metadata": {},
   "outputs": [],
   "source": [
    "import numpy as np\n",
    "\n",
    "# define lat/ lon grid\n",
    "lon = np.arange(200.5, 330)\n",
    "lat = np.arange(74.5, 15, -1)\n",
    "\n",
    "# for the plotting\n",
    "lon_edges = np.arange(200, 330)\n",
    "lat_edges = np.arange(74, 14, -1)\n",
    "\n",
    "mask = USmask.mask(lon, lat, wrap_lon=True)"
   ]
  },
  {
   "cell_type": "code",
   "execution_count": null,
   "metadata": {},
   "outputs": [],
   "source": [
    "import matplotlib.pyplot as plt\n",
    "\n",
    "ax = plt.subplot(111, projection=ccrs.PlateCarree())\n",
    "# pcolormesh does not handle NaNs, requires masked array\n",
    "mask_ma = np.ma.masked_invalid(mask)\n",
    "\n",
    "h = ax.pcolormesh(lon_edges, lat_edges, mask_ma, transform=ccrs.PlateCarree(), cmap='viridis')\n",
    "\n",
    "ax.coastlines()\n",
    "\n",
    "plt.colorbar(h, orientation='horizontal', pad=0.04);\n",
    "\n",
    "ax.set_extent([225, 300, 25, 45], crs=ccrs.PlateCarree());"
   ]
  },
  {
   "cell_type": "markdown",
   "metadata": {},
   "source": [
    "## Use shapely Polygon\n",
    "\n",
    "If you have the region defined as a shapely polygon, this also works:"
   ]
  },
  {
   "cell_type": "code",
   "execution_count": null,
   "metadata": {},
   "outputs": [],
   "source": [
    "from shapely.geometry import Polygon\n",
    "\n",
    "US1_poly = Polygon(US1)\n",
    "US2_poly = Polygon(US2)"
   ]
  },
  {
   "cell_type": "code",
   "execution_count": null,
   "metadata": {},
   "outputs": [],
   "source": [
    "USmask_poly = regionmask.Regions_cls('USmask', numbers, names, abbrevs, [US1_poly, US2_poly])"
   ]
  }
 ],
 "metadata": {
  "kernelspec": {
   "display_name": "Python 3",
   "language": "python",
   "name": "python3"
  },
  "language_info": {
   "codemirror_mode": {
    "name": "ipython",
    "version": 3
   },
   "file_extension": ".py",
   "mimetype": "text/x-python",
   "name": "python",
   "nbconvert_exporter": "python",
   "pygments_lexer": "ipython3",
   "version": "3.7.3"
  }
 },
 "nbformat": 4,
 "nbformat_minor": 1
}
